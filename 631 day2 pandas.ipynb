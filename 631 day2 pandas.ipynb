{
 "cells": [
  {
   "cell_type": "markdown",
   "id": "48cfae03",
   "metadata": {},
   "source": [
    "import pandas as pd\n"
   ]
  },
  {
   "cell_type": "code",
   "execution_count": 1,
   "id": "81d3a9de",
   "metadata": {},
   "outputs": [],
   "source": [
    "#pandas is defined as an open source library that provides\n",
    "#high performance data manipulation in python\n",
    "#data analysis requires loyt of processing restruction,cleaning,mergin,manipulating etc..we prefer pandas to perform \n",
    "#above functionalities bcoz it is fast simple than other tasks \n",
    "#pandas is built on numpy is required for operating\n",
    "#pandas"
   ]
  },
  {
   "cell_type": "code",
   "execution_count": 2,
   "id": "5d4efcb0",
   "metadata": {},
   "outputs": [],
   "source": [
    "#pandas series\n",
    "#pandas series is a data strusture with one \n",
    "#dimensional labeled array\n",
    "#it is primay building block of dataframe making its\n",
    "#rows and columns"
   ]
  },
  {
   "cell_type": "code",
   "execution_count": 4,
   "id": "6999ed5a",
   "metadata": {},
   "outputs": [
    {
     "ename": "NameError",
     "evalue": "name 'np' is not defined",
     "output_type": "error",
     "traceback": [
      "\u001b[1;31m---------------------------------------------------------------------------\u001b[0m",
      "\u001b[1;31mNameError\u001b[0m                                 Traceback (most recent call last)",
      "Cell \u001b[1;32mIn[4], line 3\u001b[0m\n\u001b[0;32m      1\u001b[0m labels\u001b[38;5;241m=\u001b[39m[\u001b[38;5;124m'\u001b[39m\u001b[38;5;124ma\u001b[39m\u001b[38;5;124m'\u001b[39m,\u001b[38;5;124m'\u001b[39m\u001b[38;5;124mb\u001b[39m\u001b[38;5;124m'\u001b[39m,\u001b[38;5;124m'\u001b[39m\u001b[38;5;124mc\u001b[39m\u001b[38;5;124m'\u001b[39m]\n\u001b[0;32m      2\u001b[0m my_data\u001b[38;5;241m=\u001b[39m[\u001b[38;5;241m10\u001b[39m,\u001b[38;5;241m20\u001b[39m,\u001b[38;5;241m30\u001b[39m]\n\u001b[1;32m----> 3\u001b[0m arr\u001b[38;5;241m=\u001b[39mnp\u001b[38;5;241m.\u001b[39marray(my_data)\n\u001b[0;32m      4\u001b[0m d\u001b[38;5;241m=\u001b[39m{\u001b[38;5;124m'\u001b[39m\u001b[38;5;124ma\u001b[39m\u001b[38;5;124m'\u001b[39m:\u001b[38;5;241m100\u001b[39m,\u001b[38;5;124m'\u001b[39m\u001b[38;5;124mb\u001b[39m\u001b[38;5;124m'\u001b[39m:\u001b[38;5;241m200\u001b[39m,\u001b[38;5;124m'\u001b[39m\u001b[38;5;124mc\u001b[39m\u001b[38;5;124m'\u001b[39m:\u001b[38;5;241m300\u001b[39m}\n\u001b[0;32m      5\u001b[0m \u001b[38;5;28mnext\u001b[39m(d)\n",
      "\u001b[1;31mNameError\u001b[0m: name 'np' is not defined"
     ]
    }
   ],
   "source": [
    "labels=['a','b','c']\n",
    "my_data=[10,20,30]\n",
    "arr=np.array(my_data)\n",
    "d={'a':100,'b':200,'c':300}"
   ]
  },
  {
   "cell_type": "code",
   "execution_count": 5,
   "id": "0ed2a94a",
   "metadata": {},
   "outputs": [],
   "source": [
    "#syntax-->pandas.series(data=none,index=none,dtype=none,name=none,copy=true (or)false)"
   ]
  },
  {
   "cell_type": "code",
   "execution_count": 9,
   "id": "9b816829",
   "metadata": {},
   "outputs": [
    {
     "data": {
      "text/plain": [
       "0    10\n",
       "1    20\n",
       "2    30\n",
       "dtype: int64"
      ]
     },
     "execution_count": 9,
     "metadata": {},
     "output_type": "execute_result"
    }
   ],
   "source": [
    "import pandas as pd\n",
    "pd.Series(my_data)"
   ]
  },
  {
   "cell_type": "code",
   "execution_count": 11,
   "id": "bd47acdf",
   "metadata": {},
   "outputs": [
    {
     "data": {
      "text/plain": [
       "0    <built-in function print>\n",
       "1      <built-in function len>\n",
       "2      <built-in function sum>\n",
       "dtype: object"
      ]
     },
     "execution_count": 11,
     "metadata": {},
     "output_type": "execute_result"
    }
   ],
   "source": [
    "pd.Series(data=[print,len,sum])"
   ]
  },
  {
   "cell_type": "code",
   "execution_count": 12,
   "id": "15e67f1a",
   "metadata": {},
   "outputs": [
    {
     "name": "stdout",
     "output_type": "stream",
     "text": [
      "my name is pravalli\n"
     ]
    }
   ],
   "source": [
    "class profile:\n",
    "    def display(self):\n",
    "        print(\"my name is pravalli\")\n",
    "p=profile()\n",
    "p.display()"
   ]
  },
  {
   "cell_type": "code",
   "execution_count": 13,
   "id": "e1329fe2",
   "metadata": {},
   "outputs": [
    {
     "name": "stdout",
     "output_type": "stream",
     "text": [
      "good morning\n"
     ]
    }
   ],
   "source": [
    "def decor(func):\n",
    "    def inner():\n",
    "        str1=func()\n",
    "        return str1.upper()\n",
    "    return inner()\n",
    "def greet():\n",
    "    return \"good morning\"\n",
    "print(greet())"
   ]
  },
  {
   "cell_type": "code",
   "execution_count": 16,
   "id": "9483b90c",
   "metadata": {},
   "outputs": [
    {
     "data": {
      "text/plain": [
       "USA       1\n",
       "india     2\n",
       "canada    3\n",
       "uk        4\n",
       "egypt     5\n",
       "dtype: int64"
      ]
     },
     "execution_count": 16,
     "metadata": {},
     "output_type": "execute_result"
    }
   ],
   "source": [
    "ser1=pd.Series([1,2,3,4,5],[\"USA\",\"india\",\"canada\",\"uk\",\"egypt\"])\n",
    "ser1"
   ]
  },
  {
   "cell_type": "code",
   "execution_count": 18,
   "id": "870fbf6c",
   "metadata": {},
   "outputs": [
    {
     "data": {
      "text/plain": [
       "1"
      ]
     },
     "execution_count": 18,
     "metadata": {},
     "output_type": "execute_result"
    }
   ],
   "source": [
    "ser1[0]"
   ]
  },
  {
   "cell_type": "markdown",
   "id": "32af94ad",
   "metadata": {},
   "source": []
  },
  {
   "cell_type": "code",
   "execution_count": 19,
   "id": "1041969a",
   "metadata": {},
   "outputs": [
    {
     "data": {
      "text/plain": [
       "USA       1\n",
       "india     2\n",
       "canada    3\n",
       "dtype: int64"
      ]
     },
     "execution_count": 19,
     "metadata": {},
     "output_type": "execute_result"
    }
   ],
   "source": [
    "ser1[0:3]"
   ]
  },
  {
   "cell_type": "code",
   "execution_count": 22,
   "id": "72b3080e",
   "metadata": {},
   "outputs": [
    {
     "data": {
      "text/plain": [
       "USA           5.0\n",
       "antarctica    NaN\n",
       "australia     NaN\n",
       "brazil        NaN\n",
       "canada        NaN\n",
       "egypt         NaN\n",
       "india         NaN\n",
       "newzealand    NaN\n",
       "uk            NaN\n",
       "dtype: float64"
      ]
     },
     "execution_count": 22,
     "metadata": {},
     "output_type": "execute_result"
    }
   ],
   "source": [
    "ser2=pd.Series([1,2,3,4,5],[\"brazil\",\"newzealand\",\"australia\",\"USA\",\"antarctica\"])\n",
    "ser1+ser2"
   ]
  },
  {
   "cell_type": "code",
   "execution_count": 23,
   "id": "0a496731",
   "metadata": {},
   "outputs": [],
   "source": [
    "ser2['china']=\"duplicate\""
   ]
  },
  {
   "cell_type": "code",
   "execution_count": 24,
   "id": "3db7f2e8",
   "metadata": {},
   "outputs": [
    {
     "data": {
      "text/plain": [
       "brazil                1\n",
       "newzealand            2\n",
       "australia             3\n",
       "USA                   4\n",
       "antarctica            5\n",
       "china         duplicate\n",
       "dtype: object"
      ]
     },
     "execution_count": 24,
     "metadata": {},
     "output_type": "execute_result"
    }
   ],
   "source": [
    "ser2"
   ]
  },
  {
   "cell_type": "code",
   "execution_count": 25,
   "id": "73e9337f",
   "metadata": {},
   "outputs": [
    {
     "data": {
      "text/plain": [
       "brazil                1\n",
       "newzealand            2\n",
       "australia             3\n",
       "antarctica            5\n",
       "china         duplicate\n",
       "dtype: object"
      ]
     },
     "execution_count": 25,
     "metadata": {},
     "output_type": "execute_result"
    }
   ],
   "source": [
    "ser2.drop('USA')"
   ]
  },
  {
   "cell_type": "code",
   "execution_count": 29,
   "id": "32dd1962",
   "metadata": {},
   "outputs": [
    {
     "data": {
      "text/html": [
       "<div>\n",
       "<style scoped>\n",
       "    .dataframe tbody tr th:only-of-type {\n",
       "        vertical-align: middle;\n",
       "    }\n",
       "\n",
       "    .dataframe tbody tr th {\n",
       "        vertical-align: top;\n",
       "    }\n",
       "\n",
       "    .dataframe thead th {\n",
       "        text-align: right;\n",
       "    }\n",
       "</style>\n",
       "<table border=\"1\" class=\"dataframe\">\n",
       "  <thead>\n",
       "    <tr style=\"text-align: right;\">\n",
       "      <th></th>\n",
       "      <th>0</th>\n",
       "      <th>1</th>\n",
       "      <th>2</th>\n",
       "      <th>3</th>\n",
       "    </tr>\n",
       "  </thead>\n",
       "  <tbody>\n",
       "    <tr>\n",
       "      <th>0</th>\n",
       "      <td>2.118571</td>\n",
       "      <td>1.257846</td>\n",
       "      <td>0.656301</td>\n",
       "      <td>0.562371</td>\n",
       "    </tr>\n",
       "    <tr>\n",
       "      <th>1</th>\n",
       "      <td>0.367179</td>\n",
       "      <td>0.459258</td>\n",
       "      <td>0.282926</td>\n",
       "      <td>-1.618044</td>\n",
       "    </tr>\n",
       "    <tr>\n",
       "      <th>2</th>\n",
       "      <td>0.920138</td>\n",
       "      <td>1.586238</td>\n",
       "      <td>0.307242</td>\n",
       "      <td>-0.702351</td>\n",
       "    </tr>\n",
       "    <tr>\n",
       "      <th>3</th>\n",
       "      <td>-0.067614</td>\n",
       "      <td>-0.365044</td>\n",
       "      <td>0.569659</td>\n",
       "      <td>1.086362</td>\n",
       "    </tr>\n",
       "    <tr>\n",
       "      <th>4</th>\n",
       "      <td>-0.967009</td>\n",
       "      <td>-0.581811</td>\n",
       "      <td>1.351997</td>\n",
       "      <td>-0.916778</td>\n",
       "    </tr>\n",
       "  </tbody>\n",
       "</table>\n",
       "</div>"
      ],
      "text/plain": [
       "          0         1         2         3\n",
       "0  2.118571  1.257846  0.656301  0.562371\n",
       "1  0.367179  0.459258  0.282926 -1.618044\n",
       "2  0.920138  1.586238  0.307242 -0.702351\n",
       "3 -0.067614 -0.365044  0.569659  1.086362\n",
       "4 -0.967009 -0.581811  1.351997 -0.916778"
      ]
     },
     "execution_count": 29,
     "metadata": {},
     "output_type": "execute_result"
    }
   ],
   "source": [
    "import numpy as np\n",
    "df=pd.DataFrame(np.random.randn(5,4))\n",
    "df"
   ]
  },
  {
   "cell_type": "code",
   "execution_count": 3,
   "id": "94c80616",
   "metadata": {},
   "outputs": [
    {
     "data": {
      "text/html": [
       "<div>\n",
       "<style scoped>\n",
       "    .dataframe tbody tr th:only-of-type {\n",
       "        vertical-align: middle;\n",
       "    }\n",
       "\n",
       "    .dataframe tbody tr th {\n",
       "        vertical-align: top;\n",
       "    }\n",
       "\n",
       "    .dataframe thead th {\n",
       "        text-align: right;\n",
       "    }\n",
       "</style>\n",
       "<table border=\"1\" class=\"dataframe\">\n",
       "  <thead>\n",
       "    <tr style=\"text-align: right;\">\n",
       "      <th></th>\n",
       "      <th>w</th>\n",
       "      <th>x</th>\n",
       "      <th>y</th>\n",
       "      <th>z</th>\n",
       "    </tr>\n",
       "  </thead>\n",
       "  <tbody>\n",
       "    <tr>\n",
       "      <th>a</th>\n",
       "      <td>0.729457</td>\n",
       "      <td>0.233133</td>\n",
       "      <td>0.222263</td>\n",
       "      <td>1.317917</td>\n",
       "    </tr>\n",
       "    <tr>\n",
       "      <th>b</th>\n",
       "      <td>0.061090</td>\n",
       "      <td>1.322181</td>\n",
       "      <td>-0.239994</td>\n",
       "      <td>1.125008</td>\n",
       "    </tr>\n",
       "    <tr>\n",
       "      <th>c</th>\n",
       "      <td>0.488722</td>\n",
       "      <td>-0.747275</td>\n",
       "      <td>0.558603</td>\n",
       "      <td>0.722763</td>\n",
       "    </tr>\n",
       "    <tr>\n",
       "      <th>d</th>\n",
       "      <td>0.175751</td>\n",
       "      <td>0.299453</td>\n",
       "      <td>0.908647</td>\n",
       "      <td>-0.025361</td>\n",
       "    </tr>\n",
       "    <tr>\n",
       "      <th>e</th>\n",
       "      <td>-2.256402</td>\n",
       "      <td>0.933030</td>\n",
       "      <td>0.646697</td>\n",
       "      <td>-1.706080</td>\n",
       "    </tr>\n",
       "  </tbody>\n",
       "</table>\n",
       "</div>"
      ],
      "text/plain": [
       "          w         x         y         z\n",
       "a  0.729457  0.233133  0.222263  1.317917\n",
       "b  0.061090  1.322181 -0.239994  1.125008\n",
       "c  0.488722 -0.747275  0.558603  0.722763\n",
       "d  0.175751  0.299453  0.908647 -0.025361\n",
       "e -2.256402  0.933030  0.646697 -1.706080"
      ]
     },
     "execution_count": 3,
     "metadata": {},
     "output_type": "execute_result"
    }
   ],
   "source": [
    "df=pd.DataFrame(np.random.randn(5,4),['a','b','c','d','e'],['w','x','y','z'])\n",
    "df"
   ]
  },
  {
   "cell_type": "code",
   "execution_count": 32,
   "id": "d8cb4855",
   "metadata": {},
   "outputs": [
    {
     "data": {
      "text/html": [
       "<div>\n",
       "<style scoped>\n",
       "    .dataframe tbody tr th:only-of-type {\n",
       "        vertical-align: middle;\n",
       "    }\n",
       "\n",
       "    .dataframe tbody tr th {\n",
       "        vertical-align: top;\n",
       "    }\n",
       "\n",
       "    .dataframe thead th {\n",
       "        text-align: right;\n",
       "    }\n",
       "</style>\n",
       "<table border=\"1\" class=\"dataframe\">\n",
       "  <thead>\n",
       "    <tr style=\"text-align: right;\">\n",
       "      <th></th>\n",
       "      <th>col1</th>\n",
       "      <th>col2</th>\n",
       "      <th>col3</th>\n",
       "    </tr>\n",
       "  </thead>\n",
       "  <tbody>\n",
       "    <tr>\n",
       "      <th>0</th>\n",
       "      <td>1</td>\n",
       "      <td>3</td>\n",
       "      <td>5</td>\n",
       "    </tr>\n",
       "    <tr>\n",
       "      <th>1</th>\n",
       "      <td>2</td>\n",
       "      <td>4</td>\n",
       "      <td>6</td>\n",
       "    </tr>\n",
       "  </tbody>\n",
       "</table>\n",
       "</div>"
      ],
      "text/plain": [
       "   col1  col2  col3\n",
       "0     1     3     5\n",
       "1     2     4     6"
      ]
     },
     "execution_count": 32,
     "metadata": {},
     "output_type": "execute_result"
    }
   ],
   "source": [
    "#to convert a dictionary to data frame\n",
    "d={\"col1\":[1,2],\"col2\":[3,4],\"col3\":[5,6]}\n",
    "df=pd.DataFrame(data=d)\n",
    "df"
   ]
  },
  {
   "cell_type": "code",
   "execution_count": 1,
   "id": "697be723",
   "metadata": {},
   "outputs": [
    {
     "data": {
      "text/html": [
       "<div>\n",
       "<style scoped>\n",
       "    .dataframe tbody tr th:only-of-type {\n",
       "        vertical-align: middle;\n",
       "    }\n",
       "\n",
       "    .dataframe tbody tr th {\n",
       "        vertical-align: top;\n",
       "    }\n",
       "\n",
       "    .dataframe thead th {\n",
       "        text-align: right;\n",
       "    }\n",
       "</style>\n",
       "<table border=\"1\" class=\"dataframe\">\n",
       "  <thead>\n",
       "    <tr style=\"text-align: right;\">\n",
       "      <th></th>\n",
       "      <th>0</th>\n",
       "      <th>1</th>\n",
       "      <th>2</th>\n",
       "      <th>3</th>\n",
       "    </tr>\n",
       "  </thead>\n",
       "  <tbody>\n",
       "    <tr>\n",
       "      <th>0</th>\n",
       "      <td>0.027953</td>\n",
       "      <td>1.086601</td>\n",
       "      <td>-0.195995</td>\n",
       "      <td>0.447024</td>\n",
       "    </tr>\n",
       "    <tr>\n",
       "      <th>1</th>\n",
       "      <td>0.735825</td>\n",
       "      <td>-1.787736</td>\n",
       "      <td>-0.650663</td>\n",
       "      <td>1.441367</td>\n",
       "    </tr>\n",
       "    <tr>\n",
       "      <th>2</th>\n",
       "      <td>-0.218475</td>\n",
       "      <td>-0.775138</td>\n",
       "      <td>-0.582895</td>\n",
       "      <td>-0.129185</td>\n",
       "    </tr>\n",
       "    <tr>\n",
       "      <th>3</th>\n",
       "      <td>0.224895</td>\n",
       "      <td>-1.604742</td>\n",
       "      <td>-0.121017</td>\n",
       "      <td>-0.848807</td>\n",
       "    </tr>\n",
       "    <tr>\n",
       "      <th>4</th>\n",
       "      <td>1.105509</td>\n",
       "      <td>0.305779</td>\n",
       "      <td>-0.153057</td>\n",
       "      <td>0.172067</td>\n",
       "    </tr>\n",
       "  </tbody>\n",
       "</table>\n",
       "</div>"
      ],
      "text/plain": [
       "          0         1         2         3\n",
       "0  0.027953  1.086601 -0.195995  0.447024\n",
       "1  0.735825 -1.787736 -0.650663  1.441367\n",
       "2 -0.218475 -0.775138 -0.582895 -0.129185\n",
       "3  0.224895 -1.604742 -0.121017 -0.848807\n",
       "4  1.105509  0.305779 -0.153057  0.172067"
      ]
     },
     "execution_count": 1,
     "metadata": {},
     "output_type": "execute_result"
    }
   ],
   "source": [
    "import numpy as np\n",
    "import pandas as pd\n",
    "df=pd.DataFrame(np.random.randn(5,4))\n",
    "df"
   ]
  },
  {
   "cell_type": "code",
   "execution_count": 2,
   "id": "67468b51",
   "metadata": {},
   "outputs": [
    {
     "data": {
      "text/html": [
       "<div>\n",
       "<style scoped>\n",
       "    .dataframe tbody tr th:only-of-type {\n",
       "        vertical-align: middle;\n",
       "    }\n",
       "\n",
       "    .dataframe tbody tr th {\n",
       "        vertical-align: top;\n",
       "    }\n",
       "\n",
       "    .dataframe thead th {\n",
       "        text-align: right;\n",
       "    }\n",
       "</style>\n",
       "<table border=\"1\" class=\"dataframe\">\n",
       "  <thead>\n",
       "    <tr style=\"text-align: right;\">\n",
       "      <th></th>\n",
       "      <th>0</th>\n",
       "      <th>1</th>\n",
       "      <th>2</th>\n",
       "      <th>3</th>\n",
       "      <th>4</th>\n",
       "    </tr>\n",
       "  </thead>\n",
       "  <tbody>\n",
       "    <tr>\n",
       "      <th>0</th>\n",
       "      <td>0.027953</td>\n",
       "      <td>0.735825</td>\n",
       "      <td>-0.218475</td>\n",
       "      <td>0.224895</td>\n",
       "      <td>1.105509</td>\n",
       "    </tr>\n",
       "    <tr>\n",
       "      <th>1</th>\n",
       "      <td>1.086601</td>\n",
       "      <td>-1.787736</td>\n",
       "      <td>-0.775138</td>\n",
       "      <td>-1.604742</td>\n",
       "      <td>0.305779</td>\n",
       "    </tr>\n",
       "    <tr>\n",
       "      <th>2</th>\n",
       "      <td>-0.195995</td>\n",
       "      <td>-0.650663</td>\n",
       "      <td>-0.582895</td>\n",
       "      <td>-0.121017</td>\n",
       "      <td>-0.153057</td>\n",
       "    </tr>\n",
       "    <tr>\n",
       "      <th>3</th>\n",
       "      <td>0.447024</td>\n",
       "      <td>1.441367</td>\n",
       "      <td>-0.129185</td>\n",
       "      <td>-0.848807</td>\n",
       "      <td>0.172067</td>\n",
       "    </tr>\n",
       "  </tbody>\n",
       "</table>\n",
       "</div>"
      ],
      "text/plain": [
       "          0         1         2         3         4\n",
       "0  0.027953  0.735825 -0.218475  0.224895  1.105509\n",
       "1  1.086601 -1.787736 -0.775138 -1.604742  0.305779\n",
       "2 -0.195995 -0.650663 -0.582895 -0.121017 -0.153057\n",
       "3  0.447024  1.441367 -0.129185 -0.848807  0.172067"
      ]
     },
     "execution_count": 2,
     "metadata": {},
     "output_type": "execute_result"
    }
   ],
   "source": [
    "df.T"
   ]
  },
  {
   "cell_type": "code",
   "execution_count": 4,
   "id": "6420141a",
   "metadata": {},
   "outputs": [
    {
     "data": {
      "text/html": [
       "<div>\n",
       "<style scoped>\n",
       "    .dataframe tbody tr th:only-of-type {\n",
       "        vertical-align: middle;\n",
       "    }\n",
       "\n",
       "    .dataframe tbody tr th {\n",
       "        vertical-align: top;\n",
       "    }\n",
       "\n",
       "    .dataframe thead th {\n",
       "        text-align: right;\n",
       "    }\n",
       "</style>\n",
       "<table border=\"1\" class=\"dataframe\">\n",
       "  <thead>\n",
       "    <tr style=\"text-align: right;\">\n",
       "      <th></th>\n",
       "      <th>w</th>\n",
       "      <th>x</th>\n",
       "      <th>y</th>\n",
       "      <th>z</th>\n",
       "    </tr>\n",
       "  </thead>\n",
       "  <tbody>\n",
       "    <tr>\n",
       "      <th>a</th>\n",
       "      <td>0.729457</td>\n",
       "      <td>0.233133</td>\n",
       "      <td>0.222263</td>\n",
       "      <td>1.317917</td>\n",
       "    </tr>\n",
       "    <tr>\n",
       "      <th>b</th>\n",
       "      <td>0.061090</td>\n",
       "      <td>1.322181</td>\n",
       "      <td>-0.239994</td>\n",
       "      <td>1.125008</td>\n",
       "    </tr>\n",
       "    <tr>\n",
       "      <th>c</th>\n",
       "      <td>0.488722</td>\n",
       "      <td>-0.747275</td>\n",
       "      <td>0.558603</td>\n",
       "      <td>0.722763</td>\n",
       "    </tr>\n",
       "    <tr>\n",
       "      <th>d</th>\n",
       "      <td>0.175751</td>\n",
       "      <td>0.299453</td>\n",
       "      <td>0.908647</td>\n",
       "      <td>-0.025361</td>\n",
       "    </tr>\n",
       "    <tr>\n",
       "      <th>e</th>\n",
       "      <td>-2.256402</td>\n",
       "      <td>0.933030</td>\n",
       "      <td>0.646697</td>\n",
       "      <td>-1.706080</td>\n",
       "    </tr>\n",
       "  </tbody>\n",
       "</table>\n",
       "</div>"
      ],
      "text/plain": [
       "          w         x         y         z\n",
       "a  0.729457  0.233133  0.222263  1.317917\n",
       "b  0.061090  1.322181 -0.239994  1.125008\n",
       "c  0.488722 -0.747275  0.558603  0.722763\n",
       "d  0.175751  0.299453  0.908647 -0.025361\n",
       "e -2.256402  0.933030  0.646697 -1.706080"
      ]
     },
     "execution_count": 4,
     "metadata": {},
     "output_type": "execute_result"
    }
   ],
   "source": [
    "df"
   ]
  },
  {
   "cell_type": "code",
   "execution_count": 5,
   "id": "de9528d0",
   "metadata": {},
   "outputs": [
    {
     "data": {
      "text/html": [
       "<div>\n",
       "<style scoped>\n",
       "    .dataframe tbody tr th:only-of-type {\n",
       "        vertical-align: middle;\n",
       "    }\n",
       "\n",
       "    .dataframe tbody tr th {\n",
       "        vertical-align: top;\n",
       "    }\n",
       "\n",
       "    .dataframe thead th {\n",
       "        text-align: right;\n",
       "    }\n",
       "</style>\n",
       "<table border=\"1\" class=\"dataframe\">\n",
       "  <thead>\n",
       "    <tr style=\"text-align: right;\">\n",
       "      <th></th>\n",
       "      <th>a</th>\n",
       "      <th>b</th>\n",
       "      <th>c</th>\n",
       "      <th>d</th>\n",
       "      <th>e</th>\n",
       "    </tr>\n",
       "  </thead>\n",
       "  <tbody>\n",
       "    <tr>\n",
       "      <th>w</th>\n",
       "      <td>0.729457</td>\n",
       "      <td>0.061090</td>\n",
       "      <td>0.488722</td>\n",
       "      <td>0.175751</td>\n",
       "      <td>-2.256402</td>\n",
       "    </tr>\n",
       "    <tr>\n",
       "      <th>x</th>\n",
       "      <td>0.233133</td>\n",
       "      <td>1.322181</td>\n",
       "      <td>-0.747275</td>\n",
       "      <td>0.299453</td>\n",
       "      <td>0.933030</td>\n",
       "    </tr>\n",
       "    <tr>\n",
       "      <th>y</th>\n",
       "      <td>0.222263</td>\n",
       "      <td>-0.239994</td>\n",
       "      <td>0.558603</td>\n",
       "      <td>0.908647</td>\n",
       "      <td>0.646697</td>\n",
       "    </tr>\n",
       "    <tr>\n",
       "      <th>z</th>\n",
       "      <td>1.317917</td>\n",
       "      <td>1.125008</td>\n",
       "      <td>0.722763</td>\n",
       "      <td>-0.025361</td>\n",
       "      <td>-1.706080</td>\n",
       "    </tr>\n",
       "  </tbody>\n",
       "</table>\n",
       "</div>"
      ],
      "text/plain": [
       "          a         b         c         d         e\n",
       "w  0.729457  0.061090  0.488722  0.175751 -2.256402\n",
       "x  0.233133  1.322181 -0.747275  0.299453  0.933030\n",
       "y  0.222263 -0.239994  0.558603  0.908647  0.646697\n",
       "z  1.317917  1.125008  0.722763 -0.025361 -1.706080"
      ]
     },
     "execution_count": 5,
     "metadata": {},
     "output_type": "execute_result"
    }
   ],
   "source": [
    "df.T"
   ]
  },
  {
   "cell_type": "code",
   "execution_count": 6,
   "id": "1a17dfcf",
   "metadata": {},
   "outputs": [
    {
     "data": {
      "text/plain": [
       "Index(['a', 'b', 'c', 'd', 'e'], dtype='object')"
      ]
     },
     "execution_count": 6,
     "metadata": {},
     "output_type": "execute_result"
    }
   ],
   "source": [
    "df.index"
   ]
  },
  {
   "cell_type": "code",
   "execution_count": 7,
   "id": "02bcd06a",
   "metadata": {},
   "outputs": [
    {
     "data": {
      "text/plain": [
       "array([[ 0.72945655,  0.23313252,  0.22226343,  1.31791686],\n",
       "       [ 0.06108953,  1.32218089, -0.23999397,  1.12500759],\n",
       "       [ 0.48872246, -0.74727509,  0.55860321,  0.72276283],\n",
       "       [ 0.1757512 ,  0.29945309,  0.90864684, -0.02536051],\n",
       "       [-2.25640161,  0.93303014,  0.64669671, -1.70608035]])"
      ]
     },
     "execution_count": 7,
     "metadata": {},
     "output_type": "execute_result"
    }
   ],
   "source": [
    "df.values"
   ]
  },
  {
   "cell_type": "code",
   "execution_count": 8,
   "id": "b6fa2c05",
   "metadata": {},
   "outputs": [
    {
     "data": {
      "text/plain": [
       "Index(['w', 'x', 'y', 'z'], dtype='object')"
      ]
     },
     "execution_count": 8,
     "metadata": {},
     "output_type": "execute_result"
    }
   ],
   "source": [
    "df.columns"
   ]
  },
  {
   "cell_type": "code",
   "execution_count": 9,
   "id": "e4bc858d",
   "metadata": {},
   "outputs": [
    {
     "data": {
      "text/plain": [
       "pandas.core.frame.DataFrame"
      ]
     },
     "execution_count": 9,
     "metadata": {},
     "output_type": "execute_result"
    }
   ],
   "source": [
    "type(df)"
   ]
  },
  {
   "cell_type": "code",
   "execution_count": 10,
   "id": "51f23144",
   "metadata": {},
   "outputs": [
    {
     "data": {
      "text/plain": [
       "w    float64\n",
       "x    float64\n",
       "y    float64\n",
       "z    float64\n",
       "dtype: object"
      ]
     },
     "execution_count": 10,
     "metadata": {},
     "output_type": "execute_result"
    }
   ],
   "source": [
    "df.dtypes"
   ]
  },
  {
   "cell_type": "code",
   "execution_count": 11,
   "id": "f0d0ab9b",
   "metadata": {},
   "outputs": [
    {
     "name": "stdout",
     "output_type": "stream",
     "text": [
      "<class 'pandas.core.frame.DataFrame'>\n",
      "Index: 5 entries, a to e\n",
      "Data columns (total 4 columns):\n",
      " #   Column  Non-Null Count  Dtype  \n",
      "---  ------  --------------  -----  \n",
      " 0   w       5 non-null      float64\n",
      " 1   x       5 non-null      float64\n",
      " 2   y       5 non-null      float64\n",
      " 3   z       5 non-null      float64\n",
      "dtypes: float64(4)\n",
      "memory usage: 372.0+ bytes\n"
     ]
    }
   ],
   "source": [
    "df.info()"
   ]
  },
  {
   "cell_type": "code",
   "execution_count": 12,
   "id": "9b3213c8",
   "metadata": {},
   "outputs": [
    {
     "data": {
      "text/plain": [
       "[Index(['a', 'b', 'c', 'd', 'e'], dtype='object'),\n",
       " Index(['w', 'x', 'y', 'z'], dtype='object')]"
      ]
     },
     "execution_count": 12,
     "metadata": {},
     "output_type": "execute_result"
    }
   ],
   "source": [
    "df.axes"
   ]
  },
  {
   "cell_type": "code",
   "execution_count": 13,
   "id": "909c7be4",
   "metadata": {},
   "outputs": [
    {
     "data": {
      "text/plain": [
       "20"
      ]
     },
     "execution_count": 13,
     "metadata": {},
     "output_type": "execute_result"
    }
   ],
   "source": [
    "df.size"
   ]
  },
  {
   "cell_type": "code",
   "execution_count": 14,
   "id": "c203ee9a",
   "metadata": {},
   "outputs": [
    {
     "data": {
      "text/plain": [
       "2"
      ]
     },
     "execution_count": 14,
     "metadata": {},
     "output_type": "execute_result"
    }
   ],
   "source": [
    "df.ndim"
   ]
  },
  {
   "cell_type": "code",
   "execution_count": 15,
   "id": "283e081a",
   "metadata": {},
   "outputs": [
    {
     "data": {
      "text/html": [
       "<div>\n",
       "<style scoped>\n",
       "    .dataframe tbody tr th:only-of-type {\n",
       "        vertical-align: middle;\n",
       "    }\n",
       "\n",
       "    .dataframe tbody tr th {\n",
       "        vertical-align: top;\n",
       "    }\n",
       "\n",
       "    .dataframe thead th {\n",
       "        text-align: right;\n",
       "    }\n",
       "</style>\n",
       "<table border=\"1\" class=\"dataframe\">\n",
       "  <thead>\n",
       "    <tr style=\"text-align: right;\">\n",
       "      <th></th>\n",
       "      <th>w</th>\n",
       "      <th>x</th>\n",
       "      <th>y</th>\n",
       "      <th>z</th>\n",
       "    </tr>\n",
       "  </thead>\n",
       "  <tbody>\n",
       "    <tr>\n",
       "      <th>a</th>\n",
       "      <td>0.729457</td>\n",
       "      <td>0.233133</td>\n",
       "      <td>0.222263</td>\n",
       "      <td>1.317917</td>\n",
       "    </tr>\n",
       "    <tr>\n",
       "      <th>b</th>\n",
       "      <td>0.061090</td>\n",
       "      <td>1.322181</td>\n",
       "      <td>-0.239994</td>\n",
       "      <td>1.125008</td>\n",
       "    </tr>\n",
       "    <tr>\n",
       "      <th>c</th>\n",
       "      <td>0.488722</td>\n",
       "      <td>-0.747275</td>\n",
       "      <td>0.558603</td>\n",
       "      <td>0.722763</td>\n",
       "    </tr>\n",
       "    <tr>\n",
       "      <th>d</th>\n",
       "      <td>0.175751</td>\n",
       "      <td>0.299453</td>\n",
       "      <td>0.908647</td>\n",
       "      <td>-0.025361</td>\n",
       "    </tr>\n",
       "    <tr>\n",
       "      <th>e</th>\n",
       "      <td>-2.256402</td>\n",
       "      <td>0.933030</td>\n",
       "      <td>0.646697</td>\n",
       "      <td>-1.706080</td>\n",
       "    </tr>\n",
       "  </tbody>\n",
       "</table>\n",
       "</div>"
      ],
      "text/plain": [
       "          w         x         y         z\n",
       "a  0.729457  0.233133  0.222263  1.317917\n",
       "b  0.061090  1.322181 -0.239994  1.125008\n",
       "c  0.488722 -0.747275  0.558603  0.722763\n",
       "d  0.175751  0.299453  0.908647 -0.025361\n",
       "e -2.256402  0.933030  0.646697 -1.706080"
      ]
     },
     "execution_count": 15,
     "metadata": {},
     "output_type": "execute_result"
    }
   ],
   "source": [
    "df"
   ]
  },
  {
   "cell_type": "code",
   "execution_count": 16,
   "id": "00d2b13d",
   "metadata": {},
   "outputs": [
    {
     "data": {
      "text/plain": [
       "a    0.729457\n",
       "b    0.061090\n",
       "c    0.488722\n",
       "d    0.175751\n",
       "e   -2.256402\n",
       "Name: w, dtype: float64"
      ]
     },
     "execution_count": 16,
     "metadata": {},
     "output_type": "execute_result"
    }
   ],
   "source": [
    "df['w']"
   ]
  },
  {
   "cell_type": "code",
   "execution_count": 17,
   "id": "0e07fcf2",
   "metadata": {},
   "outputs": [
    {
     "ename": "SyntaxError",
     "evalue": "invalid syntax (4002840733.py, line 1)",
     "output_type": "error",
     "traceback": [
      "\u001b[1;36m  Cell \u001b[1;32mIn[17], line 1\u001b[1;36m\u001b[0m\n\u001b[1;33m    df{['w','y']}\u001b[0m\n\u001b[1;37m      ^\u001b[0m\n\u001b[1;31mSyntaxError\u001b[0m\u001b[1;31m:\u001b[0m invalid syntax\n"
     ]
    }
   ],
   "source": [
    "df{['w','y']}"
   ]
  },
  {
   "cell_type": "code",
   "execution_count": 18,
   "id": "60b8d27d",
   "metadata": {},
   "outputs": [],
   "source": [
    "df['new']=df['w']+df['y']"
   ]
  },
  {
   "cell_type": "code",
   "execution_count": 19,
   "id": "b8521a94",
   "metadata": {},
   "outputs": [
    {
     "data": {
      "text/html": [
       "<div>\n",
       "<style scoped>\n",
       "    .dataframe tbody tr th:only-of-type {\n",
       "        vertical-align: middle;\n",
       "    }\n",
       "\n",
       "    .dataframe tbody tr th {\n",
       "        vertical-align: top;\n",
       "    }\n",
       "\n",
       "    .dataframe thead th {\n",
       "        text-align: right;\n",
       "    }\n",
       "</style>\n",
       "<table border=\"1\" class=\"dataframe\">\n",
       "  <thead>\n",
       "    <tr style=\"text-align: right;\">\n",
       "      <th></th>\n",
       "      <th>w</th>\n",
       "      <th>x</th>\n",
       "      <th>y</th>\n",
       "      <th>z</th>\n",
       "      <th>new</th>\n",
       "    </tr>\n",
       "  </thead>\n",
       "  <tbody>\n",
       "    <tr>\n",
       "      <th>a</th>\n",
       "      <td>0.729457</td>\n",
       "      <td>0.233133</td>\n",
       "      <td>0.222263</td>\n",
       "      <td>1.317917</td>\n",
       "      <td>0.951720</td>\n",
       "    </tr>\n",
       "    <tr>\n",
       "      <th>b</th>\n",
       "      <td>0.061090</td>\n",
       "      <td>1.322181</td>\n",
       "      <td>-0.239994</td>\n",
       "      <td>1.125008</td>\n",
       "      <td>-0.178904</td>\n",
       "    </tr>\n",
       "    <tr>\n",
       "      <th>c</th>\n",
       "      <td>0.488722</td>\n",
       "      <td>-0.747275</td>\n",
       "      <td>0.558603</td>\n",
       "      <td>0.722763</td>\n",
       "      <td>1.047326</td>\n",
       "    </tr>\n",
       "    <tr>\n",
       "      <th>d</th>\n",
       "      <td>0.175751</td>\n",
       "      <td>0.299453</td>\n",
       "      <td>0.908647</td>\n",
       "      <td>-0.025361</td>\n",
       "      <td>1.084398</td>\n",
       "    </tr>\n",
       "    <tr>\n",
       "      <th>e</th>\n",
       "      <td>-2.256402</td>\n",
       "      <td>0.933030</td>\n",
       "      <td>0.646697</td>\n",
       "      <td>-1.706080</td>\n",
       "      <td>-1.609705</td>\n",
       "    </tr>\n",
       "  </tbody>\n",
       "</table>\n",
       "</div>"
      ],
      "text/plain": [
       "          w         x         y         z       new\n",
       "a  0.729457  0.233133  0.222263  1.317917  0.951720\n",
       "b  0.061090  1.322181 -0.239994  1.125008 -0.178904\n",
       "c  0.488722 -0.747275  0.558603  0.722763  1.047326\n",
       "d  0.175751  0.299453  0.908647 -0.025361  1.084398\n",
       "e -2.256402  0.933030  0.646697 -1.706080 -1.609705"
      ]
     },
     "execution_count": 19,
     "metadata": {},
     "output_type": "execute_result"
    }
   ],
   "source": [
    "df"
   ]
  },
  {
   "cell_type": "code",
   "execution_count": 22,
   "id": "cc076c33",
   "metadata": {},
   "outputs": [
    {
     "data": {
      "text/html": [
       "<div>\n",
       "<style scoped>\n",
       "    .dataframe tbody tr th:only-of-type {\n",
       "        vertical-align: middle;\n",
       "    }\n",
       "\n",
       "    .dataframe tbody tr th {\n",
       "        vertical-align: top;\n",
       "    }\n",
       "\n",
       "    .dataframe thead th {\n",
       "        text-align: right;\n",
       "    }\n",
       "</style>\n",
       "<table border=\"1\" class=\"dataframe\">\n",
       "  <thead>\n",
       "    <tr style=\"text-align: right;\">\n",
       "      <th></th>\n",
       "      <th>w</th>\n",
       "      <th>x</th>\n",
       "      <th>y</th>\n",
       "      <th>z</th>\n",
       "    </tr>\n",
       "  </thead>\n",
       "  <tbody>\n",
       "    <tr>\n",
       "      <th>a</th>\n",
       "      <td>0.729457</td>\n",
       "      <td>0.233133</td>\n",
       "      <td>0.222263</td>\n",
       "      <td>1.317917</td>\n",
       "    </tr>\n",
       "    <tr>\n",
       "      <th>b</th>\n",
       "      <td>0.061090</td>\n",
       "      <td>1.322181</td>\n",
       "      <td>-0.239994</td>\n",
       "      <td>1.125008</td>\n",
       "    </tr>\n",
       "    <tr>\n",
       "      <th>c</th>\n",
       "      <td>0.488722</td>\n",
       "      <td>-0.747275</td>\n",
       "      <td>0.558603</td>\n",
       "      <td>0.722763</td>\n",
       "    </tr>\n",
       "    <tr>\n",
       "      <th>d</th>\n",
       "      <td>0.175751</td>\n",
       "      <td>0.299453</td>\n",
       "      <td>0.908647</td>\n",
       "      <td>-0.025361</td>\n",
       "    </tr>\n",
       "    <tr>\n",
       "      <th>e</th>\n",
       "      <td>-2.256402</td>\n",
       "      <td>0.933030</td>\n",
       "      <td>0.646697</td>\n",
       "      <td>-1.706080</td>\n",
       "    </tr>\n",
       "  </tbody>\n",
       "</table>\n",
       "</div>"
      ],
      "text/plain": [
       "          w         x         y         z\n",
       "a  0.729457  0.233133  0.222263  1.317917\n",
       "b  0.061090  1.322181 -0.239994  1.125008\n",
       "c  0.488722 -0.747275  0.558603  0.722763\n",
       "d  0.175751  0.299453  0.908647 -0.025361\n",
       "e -2.256402  0.933030  0.646697 -1.706080"
      ]
     },
     "execution_count": 22,
     "metadata": {},
     "output_type": "execute_result"
    }
   ],
   "source": [
    "df.drop('new',axis=1)"
   ]
  },
  {
   "cell_type": "code",
   "execution_count": 23,
   "id": "817809e9",
   "metadata": {},
   "outputs": [
    {
     "ename": "TypeError",
     "evalue": "DataFrame.drop() got an unexpected keyword argument 'implace'",
     "output_type": "error",
     "traceback": [
      "\u001b[1;31m---------------------------------------------------------------------------\u001b[0m",
      "\u001b[1;31mTypeError\u001b[0m                                 Traceback (most recent call last)",
      "Cell \u001b[1;32mIn[23], line 1\u001b[0m\n\u001b[1;32m----> 1\u001b[0m df\u001b[38;5;241m.\u001b[39mdrop(\u001b[38;5;124m'\u001b[39m\u001b[38;5;124mnew\u001b[39m\u001b[38;5;124m'\u001b[39m,axis\u001b[38;5;241m=\u001b[39m\u001b[38;5;241m1\u001b[39m,implace\u001b[38;5;241m=\u001b[39m\u001b[38;5;28;01mTrue\u001b[39;00m)\n",
      "\u001b[1;31mTypeError\u001b[0m: DataFrame.drop() got an unexpected keyword argument 'implace'"
     ]
    }
   ],
   "source": [
    "df.drop('new',axis=1,implace=True)"
   ]
  },
  {
   "cell_type": "code",
   "execution_count": null,
   "id": "450180a5",
   "metadata": {},
   "outputs": [],
   "source": []
  }
 ],
 "metadata": {
  "kernelspec": {
   "display_name": "Python 3 (ipykernel)",
   "language": "python",
   "name": "python3"
  },
  "language_info": {
   "codemirror_mode": {
    "name": "ipython",
    "version": 3
   },
   "file_extension": ".py",
   "mimetype": "text/x-python",
   "name": "python",
   "nbconvert_exporter": "python",
   "pygments_lexer": "ipython3",
   "version": "3.11.5"
  }
 },
 "nbformat": 4,
 "nbformat_minor": 5
}
